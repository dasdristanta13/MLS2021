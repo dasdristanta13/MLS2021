{
 "cells": [
  {
   "cell_type": "code",
   "execution_count": 1,
   "metadata": {
    "ExecuteTime": {
     "end_time": "2021-03-05T14:49:12.553605Z",
     "start_time": "2021-03-05T14:49:09.960866Z"
    }
   },
   "outputs": [],
   "source": [
    "import numpy as np\n",
    "import matplotlib.pyplot as plt"
   ]
  },
  {
   "cell_type": "code",
   "execution_count": 2,
   "metadata": {
    "ExecuteTime": {
     "end_time": "2021-03-05T14:49:12.564818Z",
     "start_time": "2021-03-05T14:49:12.557417Z"
    }
   },
   "outputs": [],
   "source": [
    "# suppose we have received the following data from some sensor\n",
    "data_x = np.linspace(1.0, 10.0, 100)[:, np.newaxis]\n",
    "data_y = np.sin(data_x) + 0.1 * np.power(data_x, 2) + 0.5 * np.random.randn(100, 1)"
   ]
  },
  {
   "cell_type": "code",
   "execution_count": 3,
   "metadata": {
    "ExecuteTime": {
     "end_time": "2021-03-05T14:49:12.673506Z",
     "start_time": "2021-03-05T14:49:12.571213Z"
    }
   },
   "outputs": [],
   "source": [
    "# fit a polynomial of order 6\n",
    "one = np.ones(shape=data_y.shape)\n",
    "\n",
    "X= np.concatenate((one,data_x,data_x**2,data_x**3,data_x**4,data_x**5,data_x**6),1)"
   ]
  },
  {
   "cell_type": "code",
   "execution_count": 4,
   "metadata": {
    "ExecuteTime": {
     "end_time": "2021-03-05T14:49:12.869556Z",
     "start_time": "2021-03-05T14:49:12.676044Z"
    }
   },
   "outputs": [],
   "source": [
    "#coeffs are the coefficients of the 6 degree polynomial\n",
    "coeffs=np.linalg.solve(np.dot(X.T,X),np.dot(X.T,data_y))"
   ]
  },
  {
   "cell_type": "code",
   "execution_count": 5,
   "metadata": {
    "ExecuteTime": {
     "end_time": "2021-03-05T14:49:13.265058Z",
     "start_time": "2021-03-05T14:49:12.872969Z"
    }
   },
   "outputs": [
    {
     "data": {
      "image/png": "[encoded data removed]",
      "text/plain": [
       "<Figure size 432x288 with 1 Axes>"
      ]
     },
     "metadata": {
      "needs_background": "light"
     },
     "output_type": "display_data"
    }
   ],
   "source": [
    "plt.title(\"Model fitted with 6 degree polynomial\")\n",
    "plt.grid()\n",
    "plt.plot(data_x,data_y,'bo')\n",
    "xlim,ylim=(plt.gca().get_xlim(),plt.gca().get_ylim())\n",
    "plt.plot(data_x, X @ coeffs,'r-')\n",
    "plt.xlim=xlim\n",
    "plt.ylim = ylim"
   ]
  },
  {
   "cell_type": "code",
   "execution_count": null,
   "metadata": {},
   "outputs": [],
   "source": []
  },
  {
   "cell_type": "code",
   "execution_count": 6,
   "metadata": {
    "ExecuteTime": {
     "end_time": "2021-03-05T14:49:13.285078Z",
     "start_time": "2021-03-05T14:49:13.268677Z"
    }
   },
   "outputs": [],
   "source": [
    "# Implement gradient computation and theta update \n",
    "def gradient_descent(X, y,theta, alpha):\n",
    "    m, n = X.shape\n",
    "    iter=1000\n",
    "    errs = np.zeros(iters)\n",
    "\n",
    "    for t in range(iters):\n",
    "        grad = np.zeros(n)\n",
    "        for i in range(m):\n",
    "            yhat = X[i] @ theta\n",
    "            errs[t] += 1/m * (yhat - y[i])**2\n",
    "            for j in range(n):\n",
    "                grad[j] += 1/m * 2 * (yhat - y[i])*X[i,j]\n",
    "        theta -= alpha * grad\n",
    "    return theta, errs"
   ]
  },
  {
   "cell_type": "code",
   "execution_count": 7,
   "metadata": {
    "ExecuteTime": {
     "end_time": "2021-03-05T14:49:13.410836Z",
     "start_time": "2021-03-05T14:49:13.289702Z"
    }
   },
   "outputs": [],
   "source": [
    "def h(X, theta):\n",
    "    return X @ theta"
   ]
  },
  {
   "cell_type": "code",
   "execution_count": 15,
   "metadata": {
    "ExecuteTime": {
     "end_time": "2021-03-05T14:52:58.297412Z",
     "start_time": "2021-03-05T14:52:58.286773Z"
    }
   },
   "outputs": [],
   "source": [
    "def H(theta, X, y):\n",
    "    return np.mean((h(X, theta) - y)**2)"
   ]
  },
  {
   "cell_type": "code",
   "execution_count": 16,
   "metadata": {
    "ExecuteTime": {
     "end_time": "2021-03-05T14:53:00.569733Z",
     "start_time": "2021-03-05T14:53:00.562290Z"
    }
   },
   "outputs": [
    {
     "data": {
      "text/plain": [
       "(100, 7)"
      ]
     },
     "execution_count": 16,
     "metadata": {},
     "output_type": "execute_result"
    }
   ],
   "source": [
    "X.shape"
   ]
  },
  {
   "cell_type": "code",
   "execution_count": 19,
   "metadata": {
    "ExecuteTime": {
     "end_time": "2021-03-05T14:58:22.515247Z",
     "start_time": "2021-03-05T14:58:22.425276Z"
    }
   },
   "outputs": [
    {
     "name": "stdout",
     "output_type": "stream",
     "text": [
      "[[nan]\n",
      " [nan]\n",
      " [nan]\n",
      " [nan]\n",
      " [nan]\n",
      " [nan]\n",
      " [nan]] [1.0767557647135451e+17, 2.4511451417040872e+32, 7.475292260649202e+47, 1.9619462143699143e+63, 1.0110658040610076e+79, 1.8088095478888496e+94, 2.7957677691780945e+109, 7.504381954129605e+124, 1.1735332009690666e+140, 5.298408384364446e+154, 2.493348040956721e+170, 1.641335096843185e+185, 7.507068489311624e+200, 1.0584960845650562e+216, 3.740478917437743e+231, 6.597240939173976e+246, 2.872443095327426e+262, 7.588735585693801e+277, 1.0144541378309055e+293, inf, inf, inf, inf, inf, inf, inf, inf, inf, inf, inf, inf, inf, inf, inf, inf, inf, inf, inf, inf, inf, inf, nan, nan, nan, nan, nan, nan, nan, nan, nan, nan, nan, nan, nan, nan, nan, nan, nan, nan, nan, nan, nan, nan, nan, nan, nan, nan, nan, nan, nan, nan, nan, nan, nan, nan, nan, nan, nan, nan, nan, nan, nan, nan, nan, nan, nan, nan, nan, nan, nan, nan, nan, nan, nan, nan, nan, nan, nan, nan, nan, nan, nan, nan, nan, nan, nan, nan, nan, nan, nan, nan, nan, nan, nan, nan, nan, nan, nan, nan, nan, nan, nan, nan, nan, nan, nan, nan, nan, nan, nan, nan, nan, nan, nan, nan, nan, nan, nan, nan, nan, nan, nan, nan, nan, nan, nan, nan, nan, nan, nan, nan, nan, nan, nan, nan, nan, nan, nan, nan, nan, nan, nan, nan, nan, nan, nan, nan, nan, nan, nan, nan, nan, nan, nan, nan, nan, nan, nan, nan, nan, nan, nan, nan, nan, nan, nan, nan, nan, nan, nan, nan, nan, nan, nan, nan, nan, nan, nan, nan, nan, nan, nan, nan, nan, nan, nan, nan, nan, nan, nan, nan, nan, nan, nan, nan, nan, nan, nan, nan, nan, nan, nan, nan, nan, nan, nan, nan, nan, nan, nan, nan, nan, nan, nan, nan, nan, nan, nan, nan, nan, nan, nan, nan, nan, nan, nan, nan, nan, nan, nan, nan, nan, nan, nan, nan, nan, nan, nan, nan, nan, nan, nan, nan, nan, nan, nan, nan, nan, nan, nan, nan, nan, nan, nan, nan, nan, nan, nan, nan, nan, nan, nan, nan, nan, nan, nan, nan, nan, nan, nan, nan, nan, nan, nan, nan, nan, nan, nan, nan, nan, nan, nan, nan, nan, nan, nan, nan, nan, nan, nan, nan, nan, nan, nan, nan, nan, nan, nan, nan, nan, nan, nan, nan, nan, nan, nan, nan, nan, nan, nan, nan, nan, nan, nan, nan, nan, nan, nan, nan, nan, nan, nan, nan, nan, nan, nan, nan, nan, nan, nan, nan, nan, nan, nan, nan, nan, nan, nan, nan, nan, nan, nan, nan, nan, nan, nan, nan, nan, nan, nan, nan, nan, nan, nan, nan, nan, nan, nan, nan, nan, nan, nan, nan, nan, nan, nan, nan, nan, nan, nan, nan, nan, nan, nan, nan, nan, nan, nan, nan, nan, nan, nan, nan, nan, nan, nan, nan, nan, nan, nan, nan, nan, nan, nan, nan, nan, nan, nan, nan, nan, nan, nan, nan, nan, nan, nan, nan, nan, nan, nan, nan, nan, nan, nan, nan, nan, nan, nan, nan, nan, nan, nan, nan, nan, nan, nan, nan, nan, nan, nan, nan, nan, nan, nan, nan, nan, nan, nan, nan, nan, nan, nan, nan, nan, nan, nan, nan, nan, nan, nan, nan, nan, nan, nan, nan, nan, nan, nan, nan, nan, nan, nan, nan, nan, nan, nan, nan, nan, nan, nan, nan, nan, nan, nan, nan, nan, nan, nan, nan, nan]\n"
     ]
    },
    {
     "name": "stderr",
     "output_type": "stream",
     "text": [
      "<ipython-input-15-69419c49eb9b>:2: RuntimeWarning: overflow encountered in square\n",
      "  return np.mean((h(X, theta) - y)**2)\n",
      "<ipython-input-19-868a01c99613>:13: RuntimeWarning: overflow encountered in matmul\n",
      "  gradient = (1/m) * x_new.T @ ((x_new@ theta) - y_new)\n",
      "<ipython-input-19-868a01c99613>:14: RuntimeWarning: invalid value encountered in subtract\n",
      "  theta -= LR * gradient\n"
     ]
    }
   ],
   "source": [
    "# Call stochastic gradient descent in the main loop\n",
    "m,n = X.shape\n",
    "LR = 0.001\n",
    "sample_size = 50\n",
    "epochs = 500\n",
    "theta = np.zeros(n).reshape(n,1)\n",
    "costs = []\n",
    "for i in range(epochs): \n",
    "    idx = np.random.choice(m, sample_size, replace=False)\n",
    "    x_new=X[idx]\n",
    "    y_new=data_y[idx]\n",
    "    y_hat= x_new @ theta - y_new\n",
    "    gradient = (1/m) * x_new.T @ ((x_new@ theta) - y_new)\n",
    "    theta -= LR * gradient\n",
    "    costs.append(H(theta,x_new,y_new))\n",
    "print(theta,costs)"
   ]
  },
  {
   "cell_type": "code",
   "execution_count": 10,
   "metadata": {
    "ExecuteTime": {
     "end_time": "2021-03-05T14:49:13.918145Z",
     "start_time": "2021-03-05T14:49:13.879852Z"
    }
   },
   "outputs": [],
   "source": [
    "# predict y_hat using test_x and theta \n",
    "# plot x vs y in blue\n",
    "# plot x vs y_hat in red"
   ]
  },
  {
   "cell_type": "code",
   "execution_count": null,
   "metadata": {
    "ExecuteTime": {
     "end_time": "2021-03-05T14:51:56.816558Z",
     "start_time": "2021-03-05T14:51:56.811162Z"
    }
   },
   "outputs": [],
   "source": []
  },
  {
   "cell_type": "code",
   "execution_count": null,
   "metadata": {},
   "outputs": [],
   "source": []
  }
 ],
 "metadata": {
  "kernelspec": {
   "display_name": "Python 3",
   "language": "python",
   "name": "python3"
  },
  "language_info": {
   "codemirror_mode": {
    "name": "ipython",
    "version": 3
   },
   "file_extension": ".py",
   "mimetype": "text/x-python",
   "name": "python",
   "nbconvert_exporter": "python",
   "pygments_lexer": "ipython3",
   "version": "3.8.5"
  },
  "latex_envs": {
   "LaTeX_envs_menu_present": true,
   "autoclose": false,
   "autocomplete": true,
   "bibliofile": "biblio.bib",
   "cite_by": "apalike",
   "current_citInitial": 1,
   "eqLabelWithNumbers": true,
   "eqNumInitial": 1,
   "hotkeys": {
    "equation": "Ctrl-E",
    "itemize": "Ctrl-I"
   },
   "labels_anchors": false,
   "latex_user_defs": false,
   "report_style_numbering": false,
   "user_envs_cfg": false
  },
  "toc": {
   "base_numbering": 1,
   "nav_menu": {},
   "number_sections": true,
   "sideBar": true,
   "skip_h1_title": false,
   "title_cell": "Table of Contents",
   "title_sidebar": "Contents",
   "toc_cell": false,
   "toc_position": {},
   "toc_section_display": true,
   "toc_window_display": false
  }
 },
 "nbformat": 4,
 "nbformat_minor": 4
}
