{
 "cells": [
  {
   "cell_type": "code",
   "execution_count": 5,
   "metadata": {
    "ExecuteTime": {
     "end_time": "2021-03-05T10:07:19.707993Z",
     "start_time": "2021-03-05T10:07:19.701156Z"
    }
   },
   "outputs": [],
   "source": [
    "import numpy as np\n",
    "from matplotlib import pyplot as plt\n",
    "from sklearn.preprocessing import StandardScaler\n",
    "from sklearn.linear_model import LogisticRegression\n",
    "from sklearn.datasets import make_classification\n",
    "from sklearn.model_selection import train_test_split\n",
    "from sklearn.datasets import load_breast_cancer\n",
    "from sklearn import metrics\n",
    "import sklearn"
   ]
  },
  {
   "cell_type": "code",
   "execution_count": 13,
   "metadata": {
    "ExecuteTime": {
     "end_time": "2021-03-05T10:11:01.590979Z",
     "start_time": "2021-03-05T10:11:01.534436Z"
    }
   },
   "outputs": [],
   "source": [
    "# load load_breast_cancer\n",
    "dat = sklearn.datasets.load_breast_cancer()\n",
    "ix = np.where(dat[\"feature_names\"] == \"mean area\")[0][0]\n",
    "iy = np.where(dat[\"feature_names\"] == \"mean concave points\")[0][0]"
   ]
  },
  {
   "cell_type": "code",
   "execution_count": 15,
   "metadata": {
    "ExecuteTime": {
     "end_time": "2021-03-05T10:11:29.372393Z",
     "start_time": "2021-03-05T10:11:29.351809Z"
    }
   },
   "outputs": [
    {
     "data": {
      "text/plain": [
       "StandardScaler()"
      ]
     },
     "execution_count": 15,
     "metadata": {},
     "output_type": "execute_result"
    }
   ],
   "source": [
    "# normalize (use StandardScaler if you wish)\n",
    "X0 = np.asarray([dat[\"data\"][:,ix], dat[\"data\"][:,iy], np.ones(dat[\"data\"].shape[0])]).T\n",
    "y0 = (1.*(dat[\"target\"]==np.where(dat[\"target_names\"] == \"malignant\")[0][0]) +\n",
    "     -1.*(dat[\"target\"]==np.where(dat[\"target_names\"] == \"benign\")[0][0]))\n",
    "\n",
    "X,y = X0.copy()[:,:-1], y0.copy() \n",
    "\n",
    "norm = StandardScaler()\n",
    "norm.fit(X)"
   ]
  },
  {
   "cell_type": "code",
   "execution_count": 16,
   "metadata": {
    "ExecuteTime": {
     "end_time": "2021-03-05T10:11:30.946485Z",
     "start_time": "2021-03-05T10:11:30.862460Z"
    }
   },
   "outputs": [],
   "source": [
    "# partition with test size 0.3\n",
    "x_train,x_test,y_train,y_test = train_test_split(X,y,test_size=0.3,random_state=0)"
   ]
  },
  {
   "cell_type": "code",
   "execution_count": 21,
   "metadata": {
    "ExecuteTime": {
     "end_time": "2021-03-05T10:58:50.980464Z",
     "start_time": "2021-03-05T10:58:50.773795Z"
    }
   },
   "outputs": [],
   "source": [
    "# fit logistic regression and draw ROC curve\n",
    "from sklearn.linear_model import LogisticRegression\n",
    "from sklearn.metrics import roc_curve\n",
    "log_reg = LogisticRegression(random_state=42)\n",
    "log_reg.fit(x_train, y_train)\n",
    "\n",
    "ns_probs =[0 for _ in range(len(y_test))]\n",
    "\n",
    "#predict probabilities\n",
    "lr_probs = log_reg.predict_log_proba(x_test)\n",
    "lr_probs= lr_probs[:,1]\n",
    "# use predict_log_proba()\n",
    "\n",
    "#calculate roc curves\n",
    "ns_fpr, ns_tpr, _ = roc_curve(y_test,ns_probs)\n",
    "lr_fpr, lr_tpr, _ = roc_curve(y_test, lr_probs)"
   ]
  },
  {
   "cell_type": "code",
   "execution_count": 24,
   "metadata": {
    "ExecuteTime": {
     "end_time": "2021-03-05T11:17:19.645284Z",
     "start_time": "2021-03-05T11:17:18.828087Z"
    }
   },
   "outputs": [
    {
     "data": {
      "image/png": "[encoded data removed]",
      "text/plain": [
       "<Figure size 432x288 with 1 Axes>"
      ]
     },
     "metadata": {
      "needs_background": "light"
     },
     "output_type": "display_data"
    }
   ],
   "source": [
    "plt.title(\"ROC Curve\")\n",
    "plt.plot(ns_fpr,ns_tpr,'r--')\n",
    "plt.plot(lr_fpr,lr_tpr, marker='*')\n",
    "plt.xlabel('False Positive Rate')\n",
    "plt.ylabel('True Positive Rate')\n",
    "plt.show()"
   ]
  },
  {
   "cell_type": "code",
   "execution_count": null,
   "metadata": {},
   "outputs": [],
   "source": []
  },
  {
   "cell_type": "code",
   "execution_count": null,
   "metadata": {},
   "outputs": [],
   "source": [
    "# What happens to the \"score\" when C = 1, 1/10, 150, 100, 1000?"
   ]
  }
 ],
 "metadata": {
  "kernelspec": {
   "display_name": "Python 3",
   "language": "python",
   "name": "python3"
  },
  "language_info": {
   "codemirror_mode": {
    "name": "ipython",
    "version": 3
   },
   "file_extension": ".py",
   "mimetype": "text/x-python",
   "name": "python",
   "nbconvert_exporter": "python",
   "pygments_lexer": "ipython3",
   "version": "3.8.5"
  },
  "latex_envs": {
   "LaTeX_envs_menu_present": true,
   "autoclose": false,
   "autocomplete": true,
   "bibliofile": "biblio.bib",
   "cite_by": "apalike",
   "current_citInitial": 1,
   "eqLabelWithNumbers": true,
   "eqNumInitial": 1,
   "hotkeys": {
    "equation": "Ctrl-E",
    "itemize": "Ctrl-I"
   },
   "labels_anchors": false,
   "latex_user_defs": false,
   "report_style_numbering": false,
   "user_envs_cfg": false
  },
  "toc": {
   "base_numbering": 1,
   "nav_menu": {},
   "number_sections": true,
   "sideBar": true,
   "skip_h1_title": false,
   "title_cell": "Table of Contents",
   "title_sidebar": "Contents",
   "toc_cell": false,
   "toc_position": {},
   "toc_section_display": true,
   "toc_window_display": false
  }
 },
 "nbformat": 4,
 "nbformat_minor": 4
}
