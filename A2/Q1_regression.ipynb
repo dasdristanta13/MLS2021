{
 "cells": [
  {
   "cell_type": "code",
   "execution_count": 1,
   "metadata": {
    "ExecuteTime": {
     "end_time": "2021-03-05T14:59:08.533567Z",
     "start_time": "2021-03-05T14:59:07.865730Z"
    }
   },
   "outputs": [],
   "source": [
    "# import necessary modules\n",
    "import numpy as np\n",
    "import matplotlib.pyplot as plt\n",
    "import pandas as pd\n",
    "import house_sales_data as hsd"
   ]
  },
  {
   "cell_type": "code",
   "execution_count": 2,
   "metadata": {
    "ExecuteTime": {
     "end_time": "2021-03-05T14:59:08.550249Z",
     "start_time": "2021-03-05T14:59:08.539974Z"
    }
   },
   "outputs": [
    {
     "name": "stdout",
     "output_type": "stream",
     "text": [
      "dict_keys(['price', 'area', 'beds', 'baths', 'condo', 'location'])\n"
     ]
    }
   ],
   "source": [
    "## Sacramento house price data; load\n",
    "data = hsd.house_sales_data() \n",
    "print(data.keys())\n",
    "\n",
    "## Get the target (i.e., price) and two features\n",
    "price = data['price']\n",
    "area = data['area']\n",
    "beds = data['beds']"
   ]
  },
  {
   "cell_type": "code",
   "execution_count": 3,
   "metadata": {
    "ExecuteTime": {
     "end_time": "2021-03-05T14:59:08.658395Z",
     "start_time": "2021-03-05T14:59:08.556496Z"
    }
   },
   "outputs": [],
   "source": [
    "X = np.hstack((area[:,np.newaxis], beds[:,np.newaxis], np.ones(area.shape[0])[:,np.newaxis]))\n",
    "y = price"
   ]
  },
  {
   "cell_type": "code",
   "execution_count": 4,
   "metadata": {
    "ExecuteTime": {
     "end_time": "2021-03-05T14:59:08.768809Z",
     "start_time": "2021-03-05T14:59:08.673792Z"
    }
   },
   "outputs": [],
   "source": [
    "# Implement gradient descent (NOT SGD, just simple GD!)\n",
    "def gradient_descent(X, y, max_iteration, learning_rate):\n",
    "    m, n = X.shape\n",
    "    iters=max_iteration\n",
    "    theta = np.zeros(n)\n",
    "    costs = np.zeros(iters)\n",
    "    for it in range(iters):\n",
    "        gradient=np.zeros(n)\n",
    "        for j in range(m):\n",
    "            y_hat= np.dot(X[j],theta)\n",
    "            costs[it]=costs[it]+1/m*2*(y_hat-y[j])**2\n",
    "            \n",
    "            for k in range(n):\n",
    "                gradient[k]=gradient[k]+1/m*2*(y_hat-y[j])*X[j,k]\n",
    "        theta=theta-learning_rate*gradient\n",
    "    return theta,costs\n"
   ]
  },
  {
   "cell_type": "code",
   "execution_count": 5,
   "metadata": {
    "ExecuteTime": {
     "end_time": "2021-03-05T14:59:08.919620Z",
     "start_time": "2021-03-05T14:59:08.792331Z"
    }
   },
   "outputs": [],
   "source": [
    "# Normalize data \n",
    "def normalize_data(X, y, normalize_cols):\n",
    "    min_X = X[:,normalize_cols].min(axis=0)\n",
    "    max_X = X[:,normalize_cols].max(axis=0)\n",
    "    min_y = y.min()\n",
    "    max_y = y.max()\n",
    "    X[:,normalize_cols] = (X[:,normalize_cols] - min_X) / (max_X - min_X)\n",
    "    y[:] = (y - min_y) / (max_y - min_y)\n",
    "    return min_X, max_X, min_y, max_y\n",
    "\n"
   ]
  },
  {
   "cell_type": "code",
   "execution_count": 6,
   "metadata": {
    "ExecuteTime": {
     "end_time": "2021-03-05T14:59:09.093361Z",
     "start_time": "2021-03-05T14:59:08.928026Z"
    }
   },
   "outputs": [],
   "source": [
    "def y_hat(X,theta):\n",
    "    return X@theta"
   ]
  },
  {
   "cell_type": "code",
   "execution_count": 7,
   "metadata": {
    "ExecuteTime": {
     "end_time": "2021-03-05T14:59:09.196812Z",
     "start_time": "2021-03-05T14:59:09.104528Z"
    }
   },
   "outputs": [],
   "source": [
    "# Implement an evaluation metric for regression\n",
    "def evaluation_metric(y,y_hat):\n",
    "    return np.mean((y_hat-y)**2)"
   ]
  },
  {
   "cell_type": "code",
   "execution_count": 8,
   "metadata": {
    "ExecuteTime": {
     "end_time": "2021-03-05T14:59:10.129663Z",
     "start_time": "2021-03-05T14:59:09.206944Z"
    }
   },
   "outputs": [],
   "source": [
    "# Prepare data this way\n",
    "from sklearn.model_selection import train_test_split\n",
    "\n",
    "X_train, X_test, y_train, y_test = train_test_split(X, y, test_size=0.2, random_state=42)\n",
    "min_X, max_X, min_y, max_y = normalize_data(X_train, y_train, [True, True, False])"
   ]
  },
  {
   "cell_type": "code",
   "execution_count": 9,
   "metadata": {
    "ExecuteTime": {
     "end_time": "2021-03-05T14:59:13.677722Z",
     "start_time": "2021-03-05T14:59:10.131990Z"
    }
   },
   "outputs": [],
   "source": [
    "# call gradient descent and fine-tune your learning rate\n",
    "theta,costs=gradient_descent(X_test,y_test,2000,0.01)"
   ]
  },
  {
   "cell_type": "code",
   "execution_count": 10,
   "metadata": {
    "ExecuteTime": {
     "end_time": "2021-03-05T14:59:13.878994Z",
     "start_time": "2021-03-05T14:59:13.679668Z"
    }
   },
   "outputs": [
    {
     "data": {
      "text/plain": [
       "Text(0.5, 1.0, 'Cost vs Iteration')"
      ]
     },
     "execution_count": 10,
     "metadata": {},
     "output_type": "execute_result"
    },
    {
     "data": {
      "image/png": "[encoded data removed]",
      "text/plain": [
       "<Figure size 432x288 with 1 Axes>"
      ]
     },
     "metadata": {
      "needs_background": "light"
     },
     "output_type": "display_data"
    }
   ],
   "source": [
    "# plot cost vs iterations \n",
    "plt.plot(costs)\n",
    "plt.title(\"Cost vs Iteration\")\n",
    "# note gradient descent return costs for all iterations"
   ]
  },
  {
   "cell_type": "code",
   "execution_count": 11,
   "metadata": {
    "ExecuteTime": {
     "end_time": "2021-03-05T14:59:13.890694Z",
     "start_time": "2021-03-05T14:59:13.882056Z"
    }
   },
   "outputs": [
    {
     "data": {
      "text/plain": [
       "5154.392449762989"
      ]
     },
     "execution_count": 11,
     "metadata": {},
     "output_type": "execute_result"
    }
   ],
   "source": [
    "# print evaluation metric for test set while \n",
    "evaluation_metric(y_hat(X_test,theta),y_test)\n",
    "# changing max_iteration from 500 to 2000\n",
    "# Note the best value of evaluation metric you get"
   ]
  },
  {
   "cell_type": "code",
   "execution_count": 12,
   "metadata": {
    "ExecuteTime": {
     "end_time": "2021-03-05T14:59:14.081043Z",
     "start_time": "2021-03-05T14:59:13.896193Z"
    }
   },
   "outputs": [
    {
     "data": {
      "text/plain": [
       "LinearRegression()"
      ]
     },
     "execution_count": 12,
     "metadata": {},
     "output_type": "execute_result"
    }
   ],
   "source": [
    "# compare your solution with scikit-learn library\n",
    "from sklearn import datasets, linear_model\n",
    "from sklearn.linear_model import LinearRegression\n",
    "model=LinearRegression()\n",
    "model.fit(X_train,y_train)"
   ]
  },
  {
   "cell_type": "code",
   "execution_count": 13,
   "metadata": {
    "ExecuteTime": {
     "end_time": "2021-03-05T14:59:14.153210Z",
     "start_time": "2021-03-05T14:59:14.084107Z"
    }
   },
   "outputs": [],
   "source": [
    "# Create linear regression object\n"
   ]
  },
  {
   "cell_type": "code",
   "execution_count": 14,
   "metadata": {
    "ExecuteTime": {
     "end_time": "2021-03-05T14:59:14.262132Z",
     "start_time": "2021-03-05T14:59:14.160925Z"
    }
   },
   "outputs": [],
   "source": [
    "# Train the model using the training sets\n"
   ]
  },
  {
   "cell_type": "code",
   "execution_count": 16,
   "metadata": {
    "ExecuteTime": {
     "end_time": "2021-03-05T15:00:36.192617Z",
     "start_time": "2021-03-05T15:00:36.187378Z"
    }
   },
   "outputs": [],
   "source": [
    "# Predict on test set and print evaluation metric\n",
    "\n",
    "predict=model.predict(X_test)\n",
    "\n",
    "# How much does it differ by from \n",
    "\n"
   ]
  },
  {
   "cell_type": "code",
   "execution_count": null,
   "metadata": {},
   "outputs": [],
   "source": []
  }
 ],
 "metadata": {
  "kernelspec": {
   "display_name": "Python 3",
   "language": "python",
   "name": "python3"
  },
  "language_info": {
   "codemirror_mode": {
    "name": "ipython",
    "version": 3
   },
   "file_extension": ".py",
   "mimetype": "text/x-python",
   "name": "python",
   "nbconvert_exporter": "python",
   "pygments_lexer": "ipython3",
   "version": "3.8.5"
  },
  "latex_envs": {
   "LaTeX_envs_menu_present": true,
   "autoclose": false,
   "autocomplete": true,
   "bibliofile": "biblio.bib",
   "cite_by": "apalike",
   "current_citInitial": 1,
   "eqLabelWithNumbers": true,
   "eqNumInitial": 1,
   "hotkeys": {
    "equation": "Ctrl-E",
    "itemize": "Ctrl-I"
   },
   "labels_anchors": false,
   "latex_user_defs": false,
   "report_style_numbering": false,
   "user_envs_cfg": false
  },
  "toc": {
   "base_numbering": 1,
   "nav_menu": {},
   "number_sections": true,
   "sideBar": true,
   "skip_h1_title": false,
   "title_cell": "Table of Contents",
   "title_sidebar": "Contents",
   "toc_cell": false,
   "toc_position": {},
   "toc_section_display": true,
   "toc_window_display": false
  }
 },
 "nbformat": 4,
 "nbformat_minor": 4
}
